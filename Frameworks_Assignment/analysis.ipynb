{
 "cells": [
  {
   "cell_type": "code",
   "execution_count": null,
   "id": "d9198758-442b-45ef-9f14-9b93e86377a8",
   "metadata": {},
   "outputs": [],
   "source": [
    "analysis.ipynb"
   ]
  },
  {
   "cell_type": "code",
   "execution_count": null,
   "id": "39e6e0dc-ff51-4cfa-ba94-a730ff7b73cc",
   "metadata": {},
   "outputs": [],
   "source": [
    "import pandas as pd\n",
    "import numpy as np\n",
    "import matplotlib.pyplot as plt\n",
    "import seaborn as sns\n",
    "from collections import Counter\n",
    "import re\n",
    "from wordcloud import WordCloud\n",
    "import nltk\n",
    "\n",
    "# Download stopwords if not already\n",
    "try:\n",
    "    nltk.data.find('corpora/stopwords')\n",
    "except:\n",
    "    nltk.download('stopwords')\n",
    "from nltk.corpus import stopwords\n",
    "\n",
    "sns.set(style=\"whitegrid\")\n",
    "STOPWORDS = set(stopwords.words('english'))\n"
   ]
  },
  {
   "cell_type": "code",
   "execution_count": null,
   "id": "00925b04-ec27-4bf7-900e-fc6e353c8bca",
   "metadata": {},
   "outputs": [],
   "source": [
    "# Load the cleaned dataset\n",
    "DATA_PATH = \"data/cleaned_sample.csv\"\n",
    "df = pd.read_csv(DATA_PATH, parse_dates=['publish_time'], low_memory=False)\n",
    "\n",
    "print(\"Rows, Cols:\", df.shape)\n",
    "df.head()\n"
   ]
  },
  {
   "cell_type": "code",
   "execution_count": null,
   "id": "ca53d194-91d9-485e-bf9c-455d5653e112",
   "metadata": {},
   "outputs": [],
   "source": [
    "print(df.info())\n",
    "print(\"\\nMissing values per column:\")\n",
    "print(df.isnull().sum())\n"
   ]
  },
  {
   "cell_type": "code",
   "execution_count": null,
   "id": "f5cfe991-9680-4815-8fe5-d62eabd8099d",
   "metadata": {},
   "outputs": [],
   "source": [
    "df['publish_time'] = pd.to_datetime(df['publish_time'], errors='coerce')\n",
    "df['year'] = df['publish_time'].dt.year\n",
    "df['year'].head()\n"
   ]
  },
  {
   "cell_type": "code",
   "execution_count": null,
   "id": "87dc1933-39a2-45c0-abee-b6e3b3f01b9a",
   "metadata": {},
   "outputs": [],
   "source": [
    "year_counts = df['year'].value_counts().sort_index()\n",
    "plt.figure(figsize=(10,4))\n",
    "year_counts.plot(kind='bar')\n",
    "plt.title('Publications by Year')\n",
    "plt.xlabel('Year')\n",
    "plt.ylabel('Count')\n",
    "plt.show()\n"
   ]
  },
  {
   "cell_type": "code",
   "execution_count": null,
   "id": "265900e5-930c-4a2a-9e50-c9dcc6f89a22",
   "metadata": {},
   "outputs": [],
   "source": [
    "top_journals = df['journal'].fillna('Unknown').value_counts().head(20)\n",
    "plt.figure(figsize=(10,6))\n",
    "sns.barplot(x=top_journals.values, y=top_journals.index)\n",
    "plt.title('Top 20 Journals')\n",
    "plt.xlabel('Count')\n",
    "plt.ylabel('Journal')\n",
    "plt.show()\n"
   ]
  },
  {
   "cell_type": "code",
   "execution_count": null,
   "id": "73539c9c-f88a-4b48-a1ef-3c045adf90a5",
   "metadata": {},
   "outputs": [],
   "source": [
    "def common_words(series, n=20):\n",
    "    text = \" \".join(series.dropna().astype(str).str.lower().tolist())\n",
    "    words = re.findall(r'\\w+', text)\n",
    "    words = [w for w in words if len(w) > 2 and w not in STOPWORDS]\n",
    "    return Counter(words).most_common(n)\n",
    "\n",
    "common_words(df['title'], n=20)\n"
   ]
  },
  {
   "cell_type": "code",
   "execution_count": null,
   "id": "61f2291b-8134-44d4-b7e3-173790a8e40f",
   "metadata": {},
   "outputs": [],
   "source": [
    "all_titles = \" \".join(df['title'].dropna().astype(str).tolist())\n",
    "wc = WordCloud(width=800, height=400, stopwords=STOPWORDS).generate(all_titles)\n",
    "\n",
    "plt.figure(figsize=(12,6))\n",
    "plt.imshow(wc, interpolation='bilinear')\n",
    "plt.axis('off')\n",
    "plt.title('Word Cloud: Paper Titles')\n",
    "plt.show()\n"
   ]
  }
 ],
 "metadata": {
  "kernelspec": {
   "display_name": "Python 3 (ipykernel)",
   "language": "python",
   "name": "python3"
  },
  "language_info": {
   "codemirror_mode": {
    "name": "ipython",
    "version": 3
   },
   "file_extension": ".py",
   "mimetype": "text/x-python",
   "name": "python",
   "nbconvert_exporter": "python",
   "pygments_lexer": "ipython3",
   "version": "3.13.7"
  }
 },
 "nbformat": 4,
 "nbformat_minor": 5
}
